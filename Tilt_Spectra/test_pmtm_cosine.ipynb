{
 "metadata": {
  "name": "test_pmtm_cosine.ipynb"
 },
 "nbformat": 3,
 "nbformat_minor": 0,
 "worksheets": [
  {
   "cells": [
    {
     "cell_type": "heading",
     "level": 4,
     "metadata": {},
     "source": [
      "This is a sanity check that the pmtm code is actually doing some good spectral analysis, imput a cosine of a known frequency and see if it puts the peak in the right place"
     ]
    },
    {
     "cell_type": "code",
     "collapsed": false,
     "input": [
      "import os\n",
      "%run /Users/dmelgarm/scripts/Python/startup.py\n",
      "os.path"
     ],
     "language": "python",
     "metadata": {},
     "outputs": [
      {
       "output_type": "pyout",
       "prompt_number": 9,
       "text": [
        "<module 'posixpath' from '/Applications/Canopy.app/appdata/canopy-1.0.0.1160.macosx-x86_64/Canopy.app/Contents/lib/python2.7/posixpath.pyc'>"
       ]
      }
     ],
     "prompt_number": 9
    },
    {
     "cell_type": "code",
     "collapsed": false,
     "input": [
      "import numpy as np\n",
      "from matplotlib import pyplot as pl\n",
      "from matplotlib import rc\n",
      "import spectools as spec"
     ],
     "language": "python",
     "metadata": {},
     "outputs": [],
     "prompt_number": 10
    },
    {
     "cell_type": "code",
     "collapsed": false,
     "input": [
      "rc('text', usetex=True) #To use Latex"
     ],
     "language": "python",
     "metadata": {},
     "outputs": [],
     "prompt_number": 11
    },
    {
     "cell_type": "code",
     "collapsed": false,
     "input": [
      "\n",
      "path=\"/Users/dmelgarm/Research/Data/Tilts/\"\n",
      "files=[\"misalignment.nw.ne_reverse\",\"misalignment.nw.nw_reverse\",\"misalignment.nw.se_reverse\",\"misalignment.nw.sw_reverse\", \\\n",
      "    \"misalignment.sw.ne_reverse\",\"misalignment.sw.nw_reverse\",\"misalignment.sw.se_reverse\",\"misalignment.sw.sw_reverse\"]\n"
     ],
     "language": "python",
     "metadata": {},
     "outputs": [],
     "prompt_number": 12
    },
    {
     "cell_type": "code",
     "collapsed": false,
     "input": [
      "k=0\n",
      "d=np.loadtxt(path+files[k])\n",
      "t=d[:,0]\n",
      "t=t-t[0]\n",
      "dt=t[1]-t[0]"
     ],
     "language": "python",
     "metadata": {},
     "outputs": [],
     "prompt_number": 13
    },
    {
     "cell_type": "code",
     "collapsed": false,
     "input": [
      "test_f=0.5 #Hz\n",
      "y=cos(2*pi*test_f*t)\n",
      "pl.plot(y)"
     ],
     "language": "python",
     "metadata": {},
     "outputs": [
      {
       "output_type": "pyout",
       "prompt_number": 14,
       "text": [
        "[<matplotlib.lines.Line2D at 0x10dbee1d0>]"
       ]
      },
      {
       "output_type": "display_data",
       "png": "[encoded data removed]",
       "text": [
        "<matplotlib.figure.Figure at 0x10dbd4490>"
       ]
      }
     ],
     "prompt_number": 14
    },
    {
     "cell_type": "code",
     "collapsed": false,
     "input": [
      "f,Sh=spec.pmtm(t,y,2.5)"
     ],
     "language": "python",
     "metadata": {},
     "outputs": [],
     "prompt_number": 16
    },
    {
     "cell_type": "code",
     "collapsed": false,
     "input": [
      "pl.loglog(f,Sh)\n",
      "pl.grid(True, which=\"both\") #Make sure it draws log grid\n",
      "pl.xlabel(\"Frequency (Hz)\")\n",
      "pl.ylabel(\"PSD\")\n",
      "#pl.xlim([0.1,1])\n",
      "pl.xlabel(r'Frequency (\\textrm{Hz})')\n",
      "pl.ylabel(r'PSD (deg^2/\\textrm{Hz})')"
     ],
     "language": "python",
     "metadata": {},
     "outputs": []
    },
    {
     "cell_type": "code",
     "collapsed": false,
     "input": [],
     "language": "python",
     "metadata": {},
     "outputs": []
    },
    {
     "cell_type": "code",
     "collapsed": false,
     "input": [],
     "language": "python",
     "metadata": {},
     "outputs": []
    }
   ],
   "metadata": {}
  }
 ]
}